{
  "nbformat": 4,
  "nbformat_minor": 0,
  "metadata": {
    "colab": {
      "name": "Assignment 3.ipynb",
      "provenance": [],
      "collapsed_sections": [],
      "authorship_tag": "ABX9TyPuqzOdAKZWVFxFvjpCOBxg",
      "include_colab_link": true
    },
    "kernelspec": {
      "name": "python3",
      "display_name": "Python 3"
    },
    "language_info": {
      "name": "python"
    }
  },
  "cells": [
    {
      "cell_type": "markdown",
      "metadata": {
        "id": "view-in-github",
        "colab_type": "text"
      },
      "source": [
        "<a href=\"https://colab.research.google.com/github/labib147/Open-Sauce-For-EEE-Course/blob/master/Assignment_3.ipynb\" target=\"_parent\"><img src=\"https://colab.research.google.com/assets/colab-badge.svg\" alt=\"Open In Colab\"/></a>"
      ]
    },
    {
      "cell_type": "markdown",
      "metadata": {
        "id": "r-T1W4QnzJdR"
      },
      "source": [
        "# **Task 1**\n",
        "\n",
        "Write Python code of a program to compute and display a person’s weekly salary as determined by the following conditions: If the hours worked are less than or equal to 40, the person receives Tk200.00 per hour, else the person receives Tk 8000.00 plus Tk 300.00 for each hour worked over 40 hours. The program should request the hours worked as input and should display the salary as output.\n",
        "\n",
        "hint: You can consider the hour(the user input) to be an integer\n",
        "\n",
        "```\n",
        "Sample:\n",
        "\n",
        "Input: 100\n",
        "Output: 26000\n",
        "\n",
        "Input: 30\n",
        "Output: 6000\n",
        "```"
      ]
    },
    {
      "cell_type": "code",
      "metadata": {
        "id": "yYszNazUyL9_"
      },
      "source": [
        "#Your code starts here"
      ],
      "execution_count": null,
      "outputs": []
    },
    {
      "cell_type": "markdown",
      "metadata": {
        "id": "epDWdWGTzfzH"
      },
      "source": [
        "# **Task 2**\n",
        "\n",
        "Write Python code of a program that finds the number of hours, minutes, and seconds in a given number of seconds.\n",
        "\n",
        "\n",
        "hint(1): The user input will be an integer value\n",
        "\n",
        "hint(2): 1 hour = 60 mins = 3600 seconds\n",
        "1min = 60 seconds\n",
        "```\n",
        "Sample:\n",
        "\n",
        "Input:\n",
        "10000\n",
        "Output:\n",
        "Hours: 2, Minutes: 46, Seconds: 40\n",
        "\n",
        "Input: \n",
        "500\n",
        "Output:\n",
        "Hours: 0, Minutes: 8, Seconds: 20\n",
        "```"
      ]
    },
    {
      "cell_type": "code",
      "metadata": {
        "id": "JZJrmC3FztAv"
      },
      "source": [
        "#Your code starts here"
      ],
      "execution_count": null,
      "outputs": []
    },
    {
      "cell_type": "markdown",
      "metadata": {
        "id": "PyT7qjBt0Hfr"
      },
      "source": [
        "### **Task 3**\n",
        "Write a python program using For/While Loop that reads an integer from the user and prints the multiplication table of that integer [Upto 10].  \n",
        "\n",
        "```\n",
        "Sample input: \n",
        "2\n",
        "\n",
        "Sample output:\n",
        "2\n",
        "4\n",
        "6\n",
        "8\n",
        "10\n",
        "12\n",
        "14\n",
        "16\n",
        "18\n",
        "20\n",
        "```"
      ]
    },
    {
      "cell_type": "code",
      "metadata": {
        "id": "Qf0aDed40S6b"
      },
      "source": [
        "#Your code starts here"
      ],
      "execution_count": null,
      "outputs": []
    },
    {
      "cell_type": "markdown",
      "metadata": {
        "id": "lASMWTch0TNL"
      },
      "source": [
        "### **Task 4**\n",
        "Write a python program using For/While Loop that prints all the numbers from 1 to 30 that are divisible by 5 OR 7.\n",
        "\n",
        "```\n",
        "Sample Output: \n",
        "5\n",
        "7\n",
        "10\n",
        "14\n",
        "15\n",
        "20\n",
        "21\n",
        "25\n",
        "28\n",
        "30\n",
        "```"
      ]
    },
    {
      "cell_type": "code",
      "metadata": {
        "id": "zhmkwkOK0Vu5"
      },
      "source": [
        "#Your code starts here"
      ],
      "execution_count": null,
      "outputs": []
    },
    {
      "cell_type": "markdown",
      "metadata": {
        "id": "xsC4aw9R0WG2"
      },
      "source": [
        "### **Task 5**\n",
        "Write a Python code of a program using For/While Loop that takes a number and prints the value of 10 to the power that number. \n",
        "\n",
        "For example: if the user enters 3, your program should print 1000. \n",
        "```\n",
        "Sample Input:\n",
        "3\n",
        "Sample Output:\n",
        "1000\n",
        "```\n",
        "\n",
        "**Hint:** Keep multiplying 1 by 10, again and again. \\\n",
        "You need to write, \\\n",
        "$product = product * 10$\n",
        "\n",
        "$1 * 10 = 10 $ \\\n",
        "$10 *10 = 100$ \\\n",
        "$100 * 10 = 1000$ \\\n",
        "(Multiplying 3 times as the user gave 3 as input)"
      ]
    },
    {
      "cell_type": "code",
      "metadata": {
        "id": "vHGaGk320Y6X"
      },
      "source": [
        "#Your code starts here"
      ],
      "execution_count": null,
      "outputs": []
    },
    {
      "cell_type": "markdown",
      "metadata": {
        "id": "00yP-O220ZRb"
      },
      "source": [
        "### **Task 6**\n",
        "Write a Python program that prints the following sequence using For/While Loop:\n",
        "```\n",
        "16\n",
        "24\n",
        "32\n",
        "40\n",
        "48\n",
        "56\n",
        "```"
      ]
    },
    {
      "cell_type": "code",
      "metadata": {
        "id": "DJiuFiyU0cck"
      },
      "source": [
        "#Your code starts here"
      ],
      "execution_count": null,
      "outputs": []
    }
  ]
}