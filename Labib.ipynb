{
  "nbformat": 4,
  "nbformat_minor": 0,
  "metadata": {
    "colab": {
      "name": "Labib",
      "provenance": [],
      "collapsed_sections": [],
      "include_colab_link": true
    },
    "kernelspec": {
      "name": "python3",
      "display_name": "Python 3"
    }
  },
  "cells": [
    {
      "cell_type": "markdown",
      "metadata": {
        "id": "view-in-github",
        "colab_type": "text"
      },
      "source": [
        "<a href=\"https://colab.research.google.com/github/labib147/Open-Sauce-For-EEE-Course/blob/master/Labib.ipynb\" target=\"_parent\"><img src=\"https://colab.research.google.com/assets/colab-badge.svg\" alt=\"Open In Colab\"/></a>"
      ]
    },
    {
      "cell_type": "markdown",
      "metadata": {
        "id": "MzHeOVLt-cUD"
      },
      "source": [
        "### **Task 1**\n",
        "Write a Python program using For/While Loop for the following:\n",
        "\n",
        "1)  Ask the user to enter the name of his favorite coffee.\\\n",
        "2)\tAsk the user to enter a Number\n",
        "\n",
        "Print the name of the user’s favorite coffee, the number of times specified in the second step.\n",
        "\n",
        "**Example:** If the user enters “Cappuccino” and 10, your program should print “Cappuccino” ten times.\\\n",
        "**Example:** If the user enters “Cappuccino” and 5, your program should print “Cappuccino” five times.\n",
        "```\n",
        "Sample Input:\n",
        "Cappuccino\n",
        "5\n",
        "\n",
        "Sample Output:\n",
        "Cappuccino\n",
        "Cappuccino\n",
        "Cappuccino\n",
        "Cappuccino\n",
        "Cappuccino\n",
        "```"
      ]
    },
    {
      "cell_type": "markdown",
      "metadata": {
        "id": "RzjBza6ooBgE"
      },
      "source": [
        ""
      ]
    },
    {
      "cell_type": "code",
      "metadata": {
        "id": "ZDiAjVbbO3WR",
        "colab": {
          "base_uri": "https://localhost:8080/"
        },
        "outputId": "200e8279-eafa-4b28-c6e2-6bd14fc0930e"
      },
      "source": [
        "#Task1\n",
        "cof=input(\"Please enter the name of your favourite coffee:\")\n",
        "num=int(input(\"Enter a number:\"))\n",
        "#for x in range (0,num): \n",
        "#  print(favCoffee)\n",
        "x=1\n",
        "while x<=num:\n",
        "  print(cof)\n",
        "  x+=1"
      ],
      "execution_count": null,
      "outputs": [
        {
          "output_type": "stream",
          "text": [
            "Please enter the name of your favourite coffee:Cappuccino\n",
            "Enter a number:5\n",
            "Cappuccino\n",
            "Cappuccino\n",
            "Cappuccino\n",
            "Cappuccino\n",
            "Cappuccino\n"
          ],
          "name": "stdout"
        }
      ]
    },
    {
      "cell_type": "markdown",
      "metadata": {
        "id": "G5bPRD0VDnvP"
      },
      "source": [
        "### **Task 2**\n",
        "Write a Python program using For/While Loop to display all the **odd numbers** between 1 and 20 and print their sum.\n",
        "```\n",
        "Output:\n",
        "1 \n",
        "3 \n",
        "5 \n",
        "7 \n",
        "9 \n",
        "11 \n",
        "13 \n",
        "15 \n",
        "17 \n",
        "19 \n",
        "Sum is:  100\n",
        "```"
      ]
    },
    {
      "cell_type": "code",
      "metadata": {
        "id": "mxJwAZ6YIli9",
        "colab": {
          "base_uri": "https://localhost:8080/"
        },
        "outputId": "10cc200f-9436-4a87-e951-e2bde5cf04a1"
      },
      "source": [
        "#Task2\n",
        "sum=0\n",
        "for i in range(1,21):\n",
        "  if i%2!=0:\n",
        "   print(i)\n",
        "   sum+=i\n",
        "print(\"Sum is:\",sum)"
      ],
      "execution_count": null,
      "outputs": [
        {
          "output_type": "stream",
          "text": [
            "1\n",
            "3\n",
            "5\n",
            "7\n",
            "9\n",
            "11\n",
            "13\n",
            "15\n",
            "17\n",
            "19\n",
            "Sum is: 100\n"
          ],
          "name": "stdout"
        }
      ]
    },
    {
      "cell_type": "markdown",
      "metadata": {
        "id": "PYWcKSJRD04A"
      },
      "source": [
        "### **Task 3**\n",
        "Write a python program using For/While Loop that reads an integer from the user and prints the multiplication table of that integer [Upto 10].  \n",
        "\n",
        "```\n",
        "Sample input: \n",
        "2\n",
        "\n",
        "Sample output:\n",
        "2\n",
        "4\n",
        "6\n",
        "8\n",
        "10\n",
        "12\n",
        "14\n",
        "16\n",
        "18\n",
        "20\n",
        "```"
      ]
    },
    {
      "cell_type": "code",
      "metadata": {
        "id": "rrmKbeTHH2TJ",
        "colab": {
          "base_uri": "https://localhost:8080/"
        },
        "outputId": "fecae666-d94b-4e9c-db9f-833a843b1c0a"
      },
      "source": [
        "#Task3\n",
        "num=int(input(\"Enter a number:\"))\n",
        "for temp in range (1,11):\n",
        "  print(temp*num)"
      ],
      "execution_count": null,
      "outputs": [
        {
          "output_type": "stream",
          "text": [
            "Enter a number:2\n",
            "2\n",
            "4\n",
            "6\n",
            "8\n",
            "10\n",
            "12\n",
            "14\n",
            "16\n",
            "18\n",
            "20\n"
          ],
          "name": "stdout"
        }
      ]
    },
    {
      "cell_type": "markdown",
      "metadata": {
        "id": "d2INpAYIEB45"
      },
      "source": [
        "### **Task 4**\n",
        "Write a python program using For/While Loop that prints all the numbers from 1 to 30 that are divisible by 5 OR 7.\n",
        "\n",
        "```\n",
        "Sample Output: \n",
        "5\n",
        "7\n",
        "10\n",
        "14\n",
        "15\n",
        "20\n",
        "21\n",
        "25\n",
        "28\n",
        "30\n",
        "```"
      ]
    },
    {
      "cell_type": "code",
      "metadata": {
        "id": "kUdU5uleO-aw",
        "colab": {
          "base_uri": "https://localhost:8080/"
        },
        "outputId": "ee3569d0-f855-4b28-ebd8-aab18b90aee7"
      },
      "source": [
        "#Task4\n",
        "for temp in range(1,31):\n",
        "  if temp%5==0 or temp%7==0:\n",
        "    print(temp)"
      ],
      "execution_count": null,
      "outputs": [
        {
          "output_type": "stream",
          "text": [
            "5\n",
            "7\n",
            "10\n",
            "14\n",
            "15\n",
            "20\n",
            "21\n",
            "25\n",
            "28\n",
            "30\n"
          ],
          "name": "stdout"
        }
      ]
    },
    {
      "cell_type": "markdown",
      "metadata": {
        "id": "SS9T9pj6JHsA"
      },
      "source": [
        "### **Task 5**\n",
        "Write a Python code of a program using For/While Loop that takes a number and prints the value of 10 to the power that number. \n",
        "\n",
        "For example: if the user enters 3, your program should print 1000. \n",
        "```\n",
        "Sample Input:\n",
        "3\n",
        "Sample Output:\n",
        "1000\n",
        "```\n",
        "\n",
        "**Hint:** Keep multiplying 1 by 10, again and again. \\\n",
        "You need to write, \\\n",
        "$product = product * 10$\n",
        "\n",
        "$1 * 10 = 10 $ \\\n",
        "$10 *10 = 100$ \\\n",
        "$100 * 10 = 1000$ \\\n",
        "(Multiplying 3 times as the user gave 3 as input)"
      ]
    },
    {
      "cell_type": "code",
      "metadata": {
        "id": "km1zAjWDH25_",
        "colab": {
          "base_uri": "https://localhost:8080/"
        },
        "outputId": "f7afe280-f6ab-4cde-9886-e86244110e59"
      },
      "source": [
        "#Task5\n",
        "num=int(input(\"Enter a number:\"))\n",
        "product=1\n",
        "for temp in range(1,num+1):\n",
        "  product=product*10\n",
        "print(product)"
      ],
      "execution_count": null,
      "outputs": [
        {
          "output_type": "stream",
          "text": [
            "Enter a number:3\n",
            "1000\n"
          ],
          "name": "stdout"
        }
      ]
    },
    {
      "cell_type": "markdown",
      "metadata": {
        "id": "0HgzRmGHH0-8"
      },
      "source": [
        "### **Task 6**\n",
        "Write a Python program that prints the following sequence using For/While Loop:\n",
        "```\n",
        "16\n",
        "24\n",
        "32\n",
        "40\n",
        "48\n",
        "56\n",
        "```"
      ]
    },
    {
      "cell_type": "code",
      "metadata": {
        "id": "PyNNkOKgNhfw",
        "colab": {
          "base_uri": "https://localhost:8080/"
        },
        "outputId": "f87f94f9-d86d-4133-9905-744f6d187f53"
      },
      "source": [
        "#Task6\n",
        "val=16\n",
        "#for temp in range(2,8):\n",
        "  #print(temp*8)\n",
        "while val<=56:\n",
        "  print(val)\n",
        "  val+=8"
      ],
      "execution_count": null,
      "outputs": [
        {
          "output_type": "stream",
          "text": [
            "16\n",
            "24\n",
            "32\n",
            "40\n",
            "48\n",
            "56\n"
          ],
          "name": "stdout"
        }
      ]
    }
  ]
}